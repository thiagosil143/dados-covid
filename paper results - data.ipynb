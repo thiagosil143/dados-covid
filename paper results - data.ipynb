{
 "cells": [
  {
   "cell_type": "markdown",
   "id": "6aba4640-bec7-4759-867b-28e0c5f862af",
   "metadata": {},
   "source": [
    "# Bibs used"
   ]
  },
  {
   "cell_type": "code",
   "execution_count": 1,
   "id": "f12ebd5a-23bb-4067-8202-daa14c28f07a",
   "metadata": {},
   "outputs": [],
   "source": [
    "import pandas as pd \n",
    "import matplotlib.pyplot as plt \n",
    "import numpy as np"
   ]
  },
  {
   "cell_type": "markdown",
   "id": "d24e985f-aefc-4ab9-8b49-6e8bee11161b",
   "metadata": {},
   "source": [
    "## Import data"
   ]
  },
  {
   "cell_type": "code",
   "execution_count": 2,
   "id": "324e6a50-7d8a-49d8-92a6-9e8d0977f346",
   "metadata": {},
   "outputs": [],
   "source": [
    "nome_estado = 'São Paulo' # name of state\n",
    "estado = 'SP' # acronym\n",
    "capital = 'São Paulo' # capital\n",
    "pop_capital = {'ES':365855,'RJ':6.748*10**6,'SP':12.33*10**6,'MG':2.722*10**6}\n",
    "M = pd.read_csv('Connections '+ estado +'.csv',index_col =0) # connection information \n",
    "M.fillna(0,inplace=True)                                           # individuals from the city in the row go to the city in the column\n",
    "                                                                   # diagonally you will find the city's population\n",
    "M.loc[\"total flow to capital\"]=M.loc[\"total flow to capital\"].astype(int)\n",
    "M.loc[\"higher flow to a city in-out\"]=M.loc[\"higher flow to a city in-out\"].astype(int)\n",
    "M.loc[\"higher flow to a city out-in\"]=M.loc[\"higher flow to a city out-in\"].astype(int)\n",
    "\n",
    "\n",
    "casos = pd.read_csv('Notifications '+estado+'.csv',index_col = 0)      # reading the accumulated cases and converting to numpy type"
   ]
  },
  {
   "cell_type": "markdown",
   "id": "55129da9-e9e4-4727-a14a-284a65885223",
   "metadata": {},
   "source": [
    "### Transform notification"
   ]
  },
  {
   "cell_type": "code",
   "execution_count": 3,
   "id": "f29be7f0-b01f-4031-a5ba-d0ce0f2577ec",
   "metadata": {},
   "outputs": [],
   "source": [
    "infectados = np.zeros(casos.index.size) # memory to actives infections \n",
    "N = pop_capital[estado]\n",
    "u = 1/8 # recovery rate\n",
    "infectados[0]=casos[capital].iloc[0] # notifications cases per day\n",
    "for k in range(1,casos.index.size):\n",
    "    infectados[k]=(1-u)*infectados[k-1]+casos[capital].iloc[k] \n",
    "    "
   ]
  },
  {
   "cell_type": "markdown",
   "id": "40079964-1e6f-44d3-911b-789aa94423bc",
   "metadata": {},
   "source": [
    "## Code to find the initial growth curve of infections "
   ]
  },
  {
   "cell_type": "code",
   "execution_count": 4,
   "id": "73faf845-c56b-4027-a4c5-88ff73c16456",
   "metadata": {},
   "outputs": [
    {
     "data": {
      "text/plain": [
       "array([-8.99973756,  0.03359577])"
      ]
     },
     "metadata": {},
     "output_type": "display_data"
    },
    {
     "data": {
      "text/plain": [
       "0.00012344219623393202"
      ]
     },
     "metadata": {},
     "output_type": "display_data"
    },
    {
     "data": {
      "text/plain": [
       "2.3083491876488886"
      ]
     },
     "metadata": {},
     "output_type": "display_data"
    },
    {
     "data": {
      "image/png": "[encoded data removed]",
      "text/plain": [
       "<Figure size 640x480 with 1 Axes>"
      ]
     },
     "metadata": {},
     "output_type": "display_data"
    }
   ],
   "source": [
    "de = 1 \n",
    "ate = 80\n",
    "fig,ax=plt.subplots()\n",
    "y = np.log(infectados[de:ate]/N) # to linearly adjust the range from 0 to 80 days\n",
    "tempo = np.arange(de,ate) # input time\n",
    "Ma = np.array([np.ones(tempo.shape),tempo]) # matrix input\n",
    "c_tau = np.linalg.inv(Ma@Ma.T)@Ma@y.T # pseudo inverse\n",
    "\n",
    "#ate=150\n",
    "tempo = np.arange(0,ate) # input time\n",
    "ax.plot(tempo,np.exp(c_tau[1]*tempo+c_tau[0])) # fitted curve\n",
    "ax.plot(tempo,infectados[0:ate]/N,'.') # data\n",
    "\n",
    "\n",
    "ultimo = -c_tau[0]/c_tau[1] # superior limit of the last day of infection\n",
    "display(c_tau)\n",
    "display(np.exp(c_tau[0])) # i[0]\n",
    "display(np.exp(8*c_tau[1])+1) # R_0"
   ]
  },
  {
   "cell_type": "markdown",
   "id": "754d3900-4723-409e-899e-310bda918fb1",
   "metadata": {
    "tags": []
   },
   "source": [
    "## Distribution"
   ]
  },
  {
   "cell_type": "code",
   "execution_count": 5,
   "id": "dc093e33-bf27-4dc9-9b70-3e20dea09572",
   "metadata": {},
   "outputs": [],
   "source": [
    "# entradas: c_tau e M, probabilidade de selecionar um não infectado = (1-exp(c_tau[1]*t+c_tau[0]))\n",
    "def distr(c_tau,M): \n",
    "    ultimo = -c_tau[0]/c_tau[1] # the city will be infected till this day\n",
    "    t = np.arange(0,ultimo) # memory time\n",
    "    p_t = (1-np.exp(c_tau[1]*t+c_tau[0]))**M # probability of selections M's not infected individuals\n",
    "    np.append(p_t,1)\n",
    "    p_dia = np.zeros(p_t.shape)\n",
    "    aux=1\n",
    "    for k in range(0,p_t.size):\n",
    "        p_dia[k]=aux*(1-p_t[k])\n",
    "        aux = aux*p_t[k]\n",
    "\n",
    "    return p_dia"
   ]
  },
  {
   "cell_type": "markdown",
   "id": "9b404828-649b-4ea8-b43a-f519460114c2",
   "metadata": {},
   "source": [
    "### Helps building the graphics"
   ]
  },
  {
   "cell_type": "code",
   "execution_count": 6,
   "id": "81b04ce0-afbf-4e7a-9c73-cea0289bf1b6",
   "metadata": {},
   "outputs": [],
   "source": [
    "def quant(vetor,p):\n",
    "    if sum(vetor)==0:\n",
    "        return 0,0\n",
    "    sv = np.zeros(vetor.size)\n",
    "    sv[0]=vetor[0]\n",
    "    for k in np.arange(1,vetor.size):\n",
    "        sv[k]=sv[k-1]+vetor[k]\n",
    "    aux = np.where(sv>=p)\n",
    "    inf=aux[0][0]\n",
    "    aux = np.where(sv>1-p)\n",
    "    sup=aux[0][0]\n",
    "    return inf+1,sup+1"
   ]
  },
  {
   "cell_type": "code",
   "execution_count": null,
   "id": "1423d5a4-1cae-47b3-af17-ae6565a4f561",
   "metadata": {},
   "outputs": [],
   "source": []
  },
  {
   "cell_type": "code",
   "execution_count": 7,
   "id": "f758868b-cea1-45e4-b1ed-7cab689a1a67",
   "metadata": {},
   "outputs": [
    {
     "data": {
      "image/png": "[encoded data removed]",
      "text/plain": [
       "<Figure size 640x480 with 1 Axes>"
      ]
     },
     "metadata": {},
     "output_type": "display_data"
    }
   ],
   "source": [
    "ate = 125\n",
    "count = 0 # counter for all cities and are within the 95% limits\n",
    "countdz = 0 # counter for all cities\n",
    "countcon = 0 # counter for the cities that have the greatest connection with their capital state are within the 95% limits\n",
    "countcont=0 # counter for the cities that have the greatest connection with their capital state\n",
    "cmce=[] # cities that don't have greatet connection with their capital state\n",
    "################## plot theoretical limits for range of connections ###########\n",
    "Mc = np.zeros(ate)\n",
    "Mc[0:40] = np.arange(1,41) # linear scale\n",
    "Mc[40:] = (10**(np.arange(40,ate)/25)).round() # log scale\n",
    "dias = np.zeros(ate)\n",
    "inf = np.zeros(ate)\n",
    "sup = np.zeros(ate)\n",
    "dias_reais = np.zeros(casos.columns.size)\n",
    "ultimo = -c_tau[0]/c_tau[1] # the city will be infected till that day\n",
    "t = np.arange(1,ultimo+1) # days memory\n",
    "figc, axc = plt.subplots()\n",
    "cidades = casos.columns\n",
    "######################## theoretical limits ##############\n",
    "for k in range(0,ate):\n",
    "    pdias = distr(c_tau,Mc[k])\n",
    "    dias[k]=(t*pdias).sum() \n",
    "    inf[k],sup[k]=quant(pdias,0.025)\n",
    "  \n",
    "axc.plot(Mc,dias,'b',linewidth=1.0)\n",
    "axc.fill_between(Mc,inf,sup, alpha=0.5,color='black')\n",
    "##########################################################\n",
    "\n",
    "###############################################################################\n",
    "dias_reais = {}\n",
    "for k in casos.columns:\n",
    "    dias_reais[k] =np.where(casos[k].to_numpy()>0)[0][0] # day of first infected notification \n",
    "\n",
    "############## real data plots ######################################\n",
    "for k in M.columns:\n",
    "    cidaux = dias_reais[M[k]['name']] # day of first infection \n",
    "    aux = M[k][\"total flow to capital\"] # connection of people\n",
    "    pdias = distr(c_tau,aux) # theoretical distribution \n",
    "    inft,supt=quant(pdias,0.025) # limits of 95% \n",
    "    if (aux>(M[k]['higher flow to a city out-in']+M[k]['higher flow to a city in-out'])): # if high connection of city is with her capital\n",
    "        \n",
    "        axc.plot(aux,cidaux,'.k') \n",
    "        if (cidaux>=inft)&(cidaux<=supt): # if in 95%, count\n",
    "            countcon=countcon+1  \n",
    "       \n",
    "        countcont=countcont+1 # if high connection of city is with her capital, count\n",
    "    else: # if high connection of city isn't with her capital\n",
    "        axc.plot(aux,cidaux,'r^',  fillstyle='none')\n",
    "        cmce.append(M[k]['name']) # cities in red\n",
    "    #axc.text(M[cidades[k].upper()][\"total\"],dias_reais[k],cidades[k])\n",
    "    \n",
    "    if M[k][\"total flow to capital\"]>0: \n",
    "        countdz=countdz+1 # count of city with some connection with her capital\n",
    "        if (cidaux>=inft)&(cidaux<=supt): \n",
    "            count=count+1  # count if sample is in the 95%\n",
    "####################################################################\n",
    "\n",
    "\n",
    "axc.tick_params(axis='both', which='major', labelsize=12)\n",
    "axc.set_xscale('log')\n",
    "axc.set_xlabel('Connection (number of people)',fontsize=13)\n",
    "\n",
    "axc.set_ylabel('Days to first infection',fontsize=13)\n",
    "\n",
    "axc.set_title(nome_estado,fontsize=16)\n",
    "plt.savefig(nome_estado+'.png',format='png',dpi=1000)\n",
    "plt.show()\n"
   ]
  },
  {
   "cell_type": "code",
   "execution_count": 8,
   "id": "0c2c7c87-9e34-4f0b-a38d-ada676a772e1",
   "metadata": {},
   "outputs": [
    {
     "data": {
      "text/plain": [
       "645"
      ]
     },
     "execution_count": 8,
     "metadata": {},
     "output_type": "execute_result"
    }
   ],
   "source": [
    "M.columns.size # number of cities in state"
   ]
  },
  {
   "cell_type": "code",
   "execution_count": 9,
   "id": "3a576400-7570-4c3d-a73c-9eeda5925884",
   "metadata": {},
   "outputs": [
    {
     "data": {
      "text/plain": [
       "583"
      ]
     },
     "execution_count": 9,
     "metadata": {},
     "output_type": "execute_result"
    }
   ],
   "source": [
    "casos.columns.size - sum(M.loc[\"total flow to capital\"]==0) # number of cities with connections"
   ]
  },
  {
   "cell_type": "code",
   "execution_count": 10,
   "id": "1bf64129-3f15-4813-bafa-96ce7d77babd",
   "metadata": {},
   "outputs": [
    {
     "data": {
      "text/plain": [
       "62"
      ]
     },
     "execution_count": 10,
     "metadata": {},
     "output_type": "execute_result"
    }
   ],
   "source": [
    "sum(M.loc[\"total flow to capital\"]==0) # number of cities with no connections with her capital, it was not used "
   ]
  },
  {
   "cell_type": "code",
   "execution_count": 11,
   "id": "e271607e-822e-42cb-ab5e-7e9a482edb90",
   "metadata": {},
   "outputs": [
    {
     "data": {
      "text/plain": [
       "0.9502572898799314"
      ]
     },
     "execution_count": 11,
     "metadata": {},
     "output_type": "execute_result"
    }
   ],
   "source": [
    "count/(countdz) # fraction of total cities in 95%\n"
   ]
  },
  {
   "cell_type": "code",
   "execution_count": 12,
   "id": "4fa7c34c-fd69-44a3-93ef-49b3ed521a67",
   "metadata": {},
   "outputs": [
    {
     "data": {
      "text/plain": [
       "0.9500924214417745"
      ]
     },
     "execution_count": 12,
     "metadata": {},
     "output_type": "execute_result"
    }
   ],
   "source": [
    "countcon/countcont # fraction of cities that have higher connection with her capital in 95%"
   ]
  },
  {
   "cell_type": "code",
   "execution_count": 13,
   "id": "d378caa2-dad7-4db3-a35d-e44af912fd2f",
   "metadata": {},
   "outputs": [
    {
     "data": {
      "text/plain": [
       "583"
      ]
     },
     "execution_count": 13,
     "metadata": {},
     "output_type": "execute_result"
    }
   ],
   "source": [
    "countdz  # number of cities with connections"
   ]
  },
  {
   "cell_type": "code",
   "execution_count": 14,
   "id": "41a6aff1-d136-4ddc-a9ae-570f0c28606b",
   "metadata": {},
   "outputs": [
    {
     "data": {
      "text/plain": [
       "554"
      ]
     },
     "execution_count": 14,
     "metadata": {},
     "output_type": "execute_result"
    }
   ],
   "source": [
    "count"
   ]
  },
  {
   "cell_type": "code",
   "execution_count": 15,
   "id": "f4559cfe-4f82-4cd3-9cf6-d7be1db96263",
   "metadata": {},
   "outputs": [
    {
     "name": "stdout",
     "output_type": "stream",
     "text": [
      "Altair\n",
      "Álvares Florence\n",
      "Aspásia\n",
      "Balbinos\n",
      "Bento de Abreu\n",
      "Bom Sucesso de Itararé\n",
      "Borá\n",
      "Brejo Alegre\n",
      "Buritizal\n",
      "Caiabu\n",
      "Campos Novos Paulista\n",
      "Cedral\n",
      "Cruzália\n",
      "Dirce Reis\n",
      "Dumont\n",
      "Echaporã\n",
      "Elisiário\n",
      "Embaúba\n",
      "Flórida Paulista\n",
      "Gabriel Monteiro\n",
      "Gastão Vidigal\n",
      "Ipiguá\n",
      "Itaju\n",
      "Jeriquara\n",
      "Lucianópolis\n",
      "Lupércio\n",
      "Marapoama\n",
      "Marinópolis\n",
      "Mesópolis\n",
      "Mirassolândia\n",
      "Monções\n",
      "Nantes\n",
      "Nipoã\n",
      "Nova Canaã Paulista\n",
      "Nova Castilho\n",
      "Nuporanga\n",
      "Ocauçu\n",
      "Palmares Paulista\n",
      "Paulo de Faria\n",
      "Pedranópolis\n",
      "Pontal\n",
      "Pracinha\n",
      "Pradópolis\n",
      "Queiroz\n",
      "Ribeirão Bonito\n",
      "Ribeirão dos Índios\n",
      "Riolândia\n",
      "Rubiácea\n",
      "Salmourão\n",
      "Sandovalina\n",
      "São Francisco\n",
      "São João das Duas Pontes\n",
      "São José da Bela Vista\n",
      "São Paulo\n",
      "Taciba\n",
      "Taquaral\n",
      "Timburi\n",
      "Trabiju\n",
      "Turmalina\n",
      "União Paulista\n",
      "Vitória Brasil\n",
      "Zacarias\n"
     ]
    }
   ],
   "source": [
    "for k in M.columns:\n",
    "    if M[k]['total flow to capital']==0:\n",
    "        print (M[k]['name']) # cities with no connections to her capital by ibge"
   ]
  },
  {
   "cell_type": "code",
   "execution_count": 16,
   "id": "5f716466-2aa6-444d-9887-5a6a4145879c",
   "metadata": {},
   "outputs": [
    {
     "data": {
      "text/plain": [
       "['Adolfo',\n",
       " 'Altair',\n",
       " 'Álvares Florence',\n",
       " 'Álvares Machado',\n",
       " 'Alvinlândia',\n",
       " 'Anhumas',\n",
       " 'Apiaí',\n",
       " 'Arapeí',\n",
       " 'Aspásia',\n",
       " 'Auriflama',\n",
       " 'Balbinos',\n",
       " 'Barra do Turvo',\n",
       " 'Bento de Abreu',\n",
       " 'Bom Sucesso de Itararé',\n",
       " 'Borá',\n",
       " 'Brejo Alegre',\n",
       " 'Buritizal',\n",
       " 'Caiabu',\n",
       " 'Cajati',\n",
       " 'Campina do Monte Alegre',\n",
       " 'Campos Novos Paulista',\n",
       " 'Cedral',\n",
       " 'Conchal',\n",
       " 'Cruzália',\n",
       " 'Dirce Reis',\n",
       " 'Dumont',\n",
       " 'Echaporã',\n",
       " 'Elisiário',\n",
       " 'Embaúba',\n",
       " 'Fernão',\n",
       " 'Floreal',\n",
       " 'Flórida Paulista',\n",
       " 'Gabriel Monteiro',\n",
       " 'Gastão Vidigal',\n",
       " 'Guaraci',\n",
       " 'Guariba',\n",
       " 'Iaras',\n",
       " 'Ibirá',\n",
       " 'Ilha Solteira',\n",
       " 'Ipiguá',\n",
       " 'Itaju',\n",
       " 'Itaoca',\n",
       " 'Itapirapuã Paulista',\n",
       " 'Itapura',\n",
       " 'Jaci',\n",
       " 'Jeriquara',\n",
       " 'Lucianópolis',\n",
       " 'Lupércio',\n",
       " 'Macaubal',\n",
       " 'Marapoama',\n",
       " 'Marinópolis',\n",
       " 'Mesópolis',\n",
       " 'Mirante do Paranapanema',\n",
       " 'Mirassolândia',\n",
       " 'Monções',\n",
       " 'Nantes',\n",
       " 'Nipoã',\n",
       " 'Nova Aliança',\n",
       " 'Nova Canaã Paulista',\n",
       " 'Nova Castilho',\n",
       " 'Nova Independência',\n",
       " 'Nuporanga',\n",
       " 'Ocauçu',\n",
       " 'Onda Verde',\n",
       " 'Ouroeste',\n",
       " 'Palmares Paulista',\n",
       " 'Palmital',\n",
       " 'Paranapuã',\n",
       " 'Paulo de Faria',\n",
       " 'Pedranópolis',\n",
       " 'Pedregulho',\n",
       " 'Planalto',\n",
       " 'Pontal',\n",
       " 'Populina',\n",
       " 'Pracinha',\n",
       " 'Pradópolis',\n",
       " 'Queiroz',\n",
       " 'Queluz',\n",
       " 'Ribeira',\n",
       " 'Ribeirão Bonito',\n",
       " 'Ribeirão dos Índios',\n",
       " 'Riolândia',\n",
       " 'Rosana',\n",
       " 'Rubiácea',\n",
       " 'Rubinéia',\n",
       " 'Salmourão',\n",
       " 'Sandovalina',\n",
       " 'Santa Adélia',\n",
       " 'Santa Cruz da Esperança',\n",
       " 'Santa Maria da Serra',\n",
       " 'São Francisco',\n",
       " 'São João das Duas Pontes',\n",
       " 'São José da Bela Vista',\n",
       " 'São José do Barreiro',\n",
       " 'São Paulo',\n",
       " 'Taciba',\n",
       " 'Taquaral',\n",
       " 'Timburi',\n",
       " 'Torre de Pedra',\n",
       " 'Trabiju',\n",
       " 'Turmalina',\n",
       " 'União Paulista',\n",
       " 'Vitória Brasil',\n",
       " 'Zacarias']"
      ]
     },
     "execution_count": 16,
     "metadata": {},
     "output_type": "execute_result"
    }
   ],
   "source": [
    "cmce # cities that don't have greatet connection with their capital state"
   ]
  }
 ],
 "metadata": {
  "kernelspec": {
   "display_name": "Python 3 (ipykernel)",
   "language": "python",
   "name": "python3"
  },
  "language_info": {
   "codemirror_mode": {
    "name": "ipython",
    "version": 3
   },
   "file_extension": ".py",
   "mimetype": "text/x-python",
   "name": "python",
   "nbconvert_exporter": "python",
   "pygments_lexer": "ipython3",
   "version": "3.12.3"
  }
 },
 "nbformat": 4,
 "nbformat_minor": 5
}
