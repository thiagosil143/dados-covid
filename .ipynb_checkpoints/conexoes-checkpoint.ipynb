{
 "cells": [
  {
   "cell_type": "markdown",
   "metadata": {
    "id": "w18J5JN6s65e"
   },
   "source": [
    "## Importações básicas de bibliotecas"
   ]
  },
  {
   "cell_type": "code",
   "execution_count": 1,
   "metadata": {
    "colab": {
     "base_uri": "https://localhost:8080/"
    },
    "id": "0WSvVCWTl6xX",
    "outputId": "3909b7db-e08d-4733-d8f8-20502a9a9e8d"
   },
   "outputs": [],
   "source": [
    "#%matplotlib widget  \n",
    "import pandas as pd # trabalhar com planilhas\n",
    "import numpy as np # biblioteca numérica\n",
    "import matplotlib.pyplot as mp # biblioteca gráfica\n",
    "from datetime import datetime\n"
   ]
  },
  {
   "cell_type": "markdown",
   "metadata": {
    "id": "JQ_-jAA7uIMz"
   },
   "source": [
    "## Lendo os dados de conexões e indivíduos em cada região"
   ]
  },
  {
   "cell_type": "code",
   "execution_count": 9,
   "metadata": {
    "colab": {
     "base_uri": "https://localhost:8080/",
     "height": 540
    },
    "id": "bLUFe-Cgs6Ma",
    "outputId": "190ee375-7efc-4936-c540-391080aecbd8"
   },
   "outputs": [
    {
     "ename": "IndexError",
     "evalue": "index 16 is out of bounds for axis 0 with size 8",
     "output_type": "error",
     "traceback": [
      "\u001b[0;31m---------------------------------------------------------------------------\u001b[0m",
      "\u001b[0;31mIndexError\u001b[0m                                Traceback (most recent call last)",
      "Cell \u001b[0;32mIn[9], line 10\u001b[0m\n\u001b[1;32m      8\u001b[0m M \u001b[38;5;241m=\u001b[39m cone\u001b[38;5;241m.\u001b[39mT[gv]\u001b[38;5;241m.\u001b[39msum(axis\u001b[38;5;241m=\u001b[39m\u001b[38;5;241m0\u001b[39m) \u001b[38;5;66;03m# conexações da grande vitória\u001b[39;00m\n\u001b[1;32m      9\u001b[0m \u001b[38;5;28;01mfor\u001b[39;00m k \u001b[38;5;129;01min\u001b[39;00m gv:\n\u001b[0;32m---> 10\u001b[0m   N\u001b[38;5;241m=\u001b[39mN\u001b[38;5;241m+\u001b[39m\u001b[43mcone\u001b[49m\u001b[43m[\u001b[49m\u001b[43mk\u001b[49m\u001b[43m]\u001b[49m[k] \u001b[38;5;66;03m# população de cada cidade estão na diagonal da matriz de conexões -> cone\u001b[39;00m\n\u001b[1;32m     11\u001b[0m   M[k] \u001b[38;5;241m=\u001b[39m M[k]\u001b[38;5;241m-\u001b[39mcone[k][k] \u001b[38;5;66;03m# removendo a conexão consigo mesmo de cidades da grande vitória,\u001b[39;00m\n\u001b[1;32m     12\u001b[0m                          \u001b[38;5;66;03m# NÃO HÁ INTERESSE aqui a menos de cidades fictícias do tamanho \u001b[39;00m\n\u001b[1;32m     13\u001b[0m                          \u001b[38;5;66;03m# das cidades individuais da grande vitória em contanto com o bloco da grande vitória\u001b[39;00m\n",
      "\u001b[0;31mIndexError\u001b[0m: index 16 is out of bounds for axis 0 with size 8"
     ]
    }
   ],
   "source": [
    "dados = pd.read_csv('conexao estado de ES.csv') # leitura das conexões, \n",
    "                                    # indivíduos da cidade na linha vão para cidade da coluna\n",
    "                                    # na diagonal se encontra a população da cidade\n",
    "cone = dados.to_numpy() # transforma em uma matriz manipulável com o numpy\n",
    "nome_cidades = dados.columns # nome das cidades, útil para organização estética\n",
    "gv = [16,25,28,69,73,76,77] ## cidades da grande vitória\n",
    "N=0 # população grande vitória, encontrada no próximo for\n",
    "M = cone.T[gv].sum(axis=0) # conexações da grande vitória\n",
    "for k in gv:\n",
    "  N=N+cone[k][k] # população de cada cidade estão na diagonal da matriz de conexões -> cone\n",
    "  M[k] = M[k]-cone[k][k] # removendo a conexão consigo mesmo de cidades da grande vitória,\n",
    "                         # NÃO HÁ INTERESSE aqui a menos de cidades fictícias do tamanho \n",
    "                         # das cidades individuais da grande vitória em contanto com o bloco da grande vitória\n",
    "\n",
    "display(dados) # para não nos sentirmos alienados...\n"
   ]
  },
  {
   "cell_type": "code",
   "execution_count": null,
   "metadata": {
    "colab": {
     "base_uri": "https://localhost:8080/"
    },
    "id": "NV1KNEIW21zt",
    "outputId": "04709f9e-42e4-4ba7-8f19-e7f04737960b"
   },
   "outputs": [],
   "source": [
    "cone[21][gv].sum()"
   ]
  },
  {
   "cell_type": "code",
   "execution_count": null,
   "metadata": {
    "colab": {
     "base_uri": "https://localhost:8080/"
    },
    "id": "rSZ3Nc43tTNn",
    "outputId": "77705259-4b7e-49d8-b3b1-1cb56742dcca"
   },
   "outputs": [],
   "source": [
    "nome_cidades[gv]"
   ]
  },
  {
   "cell_type": "markdown",
   "metadata": {
    "id": "7eS12ISt69zk"
   },
   "source": [
    "Leitura dos casos de infecção "
   ]
  },
  {
   "cell_type": "code",
   "execution_count": null,
   "metadata": {
    "id": "XfflV05luBih"
   },
   "outputs": [],
   "source": [
    "casos = pd.read_csv('casos_atual_acumulado.csv').to_numpy() # lendo os casos acumulados e convertendo para tipo numpy\n",
    "casosD = np.zeros([np.shape(casos)[0]-2,np.shape(casos)[1]]) # memória para notificação das infecções diárias\n",
    "for k in range(0,78):\n",
    "  casosD.T[k] = casos.T[k][1:-1]-casos.T[k][0:-2] # infecções diárias "
   ]
  },
  {
   "cell_type": "code",
   "execution_count": null,
   "metadata": {},
   "outputs": [],
   "source": []
  },
  {
   "cell_type": "code",
   "execution_count": null,
   "metadata": {},
   "outputs": [],
   "source": [
    "fig,ax=mp.subplots()\n",
    "ax.plot(casos.T[34])\n",
    "ax.plot(casos.T[76])\n",
    "ax.set_yscale('log')"
   ]
  },
  {
   "cell_type": "markdown",
   "metadata": {
    "id": "v8mLygrFMsPo"
   },
   "source": [
    "## Método começa aqui"
   ]
  },
  {
   "cell_type": "markdown",
   "metadata": {
    "id": "H2EZrMnY7GM4"
   },
   "source": [
    "Estimativa dos infectados ativos diários"
   ]
  },
  {
   "cell_type": "code",
   "execution_count": null,
   "metadata": {
    "id": "K1mkjo0i2KMu"
   },
   "outputs": [],
   "source": [
    "infectados = np.zeros(casosD.shape) # memória para infectados ativos\n",
    "u = 1/8 ## taxa de recuperação de 14 dias\n",
    "infectados[0]=casosD[0] # inicial\n",
    "for k in range(1,casosD.shape[0]):\n",
    "  infectados[k] = (1-u)*infectados[k-1]+casosD[k] ## considerando as recuperações\n",
    "inf_gv = infectados.sum(axis=1) ## pegando os infectados ativos da grande vitória "
   ]
  },
  {
   "cell_type": "code",
   "execution_count": null,
   "metadata": {
    "colab": {
     "base_uri": "https://localhost:8080/",
     "height": 296
    },
    "id": "Y2fFEjJxRPlZ",
    "outputId": "069f191c-f42b-484b-c866-1964db0d174e"
   },
   "outputs": [],
   "source": [
    "fig, ax = mp.subplots()\n",
    "ax.plot(infectados/N)\n",
    "mp.show()\n"
   ]
  },
  {
   "cell_type": "markdown",
   "metadata": {
    "id": "nJEMpHt0CuS9"
   },
   "source": [
    "Considere um tipo de conexão em estrela: um núcleo urbano se conectando com cidades menores, e estas conectadas única e exclusivamente ao núcleo. Ainda, suponha que para cada dia haja I(t) infectados no núcleo (número de infectados dependente do tempo), assuma, também, que as cidades menores serão infectadas quando um infectado do núcleo as visitarem. Isso posto, pergunta-se: se M pessoas fazem um movimento pendular do núcleo a uma cidade menor, em quanto tempo essa cidade terá sua primeira infecção dado I(t)? \n",
    "\n",
    "Vale salientar que o problema proposto é de caráter aleatório, visto que o tempo até a primeira infecção, pelas suposições feitas, é tão logo quanto a ocorrência de uma visita de um infectado. Resolver analiticamente não parece uma tarefa fácil, entretanto, munidos de processamento e algum tempo, uma solução possível para simular uma instância aleatória pode ser resumida a seguir:\n",
    "\n",
    "\n",
    "1.   Selecione aleatoriamente um subconjunto de M pessoas num conjunto de N, então a probabilidade de não haver infectados é de aproximadamente $$p_0 = \\left(\\dfrac{N-I(t)}{N}\\right)^M.$$ Esse valor seria exatamente igual considerando reposição, que não é o caso, entretanto, as pessoas que translandam normalmente é uma fatia pequena. Para o caso da Grande Vitória, por exemplo, pouco menos de 0,7% fazem o movimento pendular para alguma das cidades do estado do Espírito Santo, o que pode justificar a aproximação. Portanto, a probabilidade de haver ao menos um infectado no subconjunto de M é dada por $$p_{\\neq 0} = 1-p_0.$$\n",
    "2.   Faz-se o passo 1 até haver uma ocorrência da infecção, incrementa-se o tempo a cada não ocorrência.\n",
    "\n"
   ]
  },
  {
   "cell_type": "code",
   "execution_count": 3,
   "metadata": {
    "id": "7cN4xof05VZV"
   },
   "outputs": [],
   "source": [
    "# entradas: conexão, população central, infectados nos tempo, número de simulações\n",
    "def dprog(M,N,in_gv,n_inst): \n",
    "  dias = -np.ones(n_inst) # pré armazenando memória\n",
    "  for n in range(0,n_inst): # faça n_inst número de instâncias\n",
    "\n",
    "    for k in range(0,in_gv.size):\n",
    "      p = (N-in_gv[k])/N # probabilidade de selecionar um não infectado\n",
    "      P = 1-p**M # probabilidade de ao menos uma infecção\n",
    "\n",
    "      if np.random.rand()<P: # se houver infecção\n",
    "        dias[n]=k # salva dia da infecção\n",
    "        break\n",
    "  np.delete(dias, np.where(dias==-1)) # caso tenha passado dos dias disponíveis de infectados, evento raro.\n",
    "  return dias"
   ]
  },
  {
   "cell_type": "code",
   "execution_count": 4,
   "metadata": {
    "colab": {
     "base_uri": "https://localhost:8080/",
     "height": 282
    },
    "id": "hcf0PZB5vUt5",
    "outputId": "f22e8d29-f1ba-47b1-e4d4-24eedc504674"
   },
   "outputs": [
    {
     "ename": "NameError",
     "evalue": "name 'inf_gv' is not defined",
     "output_type": "error",
     "traceback": [
      "\u001b[0;31m---------------------------------------------------------------------------\u001b[0m",
      "\u001b[0;31mNameError\u001b[0m                                 Traceback (most recent call last)",
      "Cell \u001b[0;32mIn[4], line 5\u001b[0m\n\u001b[1;32m      2\u001b[0m ate \u001b[38;5;241m=\u001b[39m \u001b[38;5;241m80\u001b[39m\n\u001b[1;32m      4\u001b[0m fig,ax\u001b[38;5;241m=\u001b[39mmp\u001b[38;5;241m.\u001b[39msubplots()\n\u001b[0;32m----> 5\u001b[0m y \u001b[38;5;241m=\u001b[39m np\u001b[38;5;241m.\u001b[39mlog(\u001b[43minf_gv\u001b[49m[de:ate]\u001b[38;5;241m/\u001b[39mN) \u001b[38;5;66;03m# para ajustar linearmente o intervalo de 0 a 80 dias\u001b[39;00m\n\u001b[1;32m      6\u001b[0m tempo \u001b[38;5;241m=\u001b[39m np\u001b[38;5;241m.\u001b[39marange(de,ate) \u001b[38;5;66;03m# entrada (tempo)\u001b[39;00m\n\u001b[1;32m      7\u001b[0m Ma \u001b[38;5;241m=\u001b[39m np\u001b[38;5;241m.\u001b[39marray([np\u001b[38;5;241m.\u001b[39mones(tempo\u001b[38;5;241m.\u001b[39mshape),tempo]) \u001b[38;5;66;03m# matriz de entradas\u001b[39;00m\n",
      "\u001b[0;31mNameError\u001b[0m: name 'inf_gv' is not defined"
     ]
    },
    {
     "data": {
      "image/png": "[encoded data removed]",
      "text/plain": [
       "<Figure size 640x480 with 1 Axes>"
      ]
     },
     "metadata": {},
     "output_type": "display_data"
    }
   ],
   "source": [
    "de = 0\n",
    "ate = 80\n",
    "\n",
    "fig,ax=mp.subplots()\n",
    "y = np.log(inf_gv[de:ate]/N) # para ajustar linearmente o intervalo de 0 a 80 dias\n",
    "tempo = np.arange(de,ate) # entrada (tempo)\n",
    "Ma = np.array([np.ones(tempo.shape),tempo]) # matriz de entradas\n",
    "c_tau = np.linalg.inv(Ma@Ma.T)@Ma@y.T # pseudo inversa\n",
    "\n",
    "#ate=150\n",
    "tempo = np.arange(0,ate) # entrada (tempo)\n",
    "ax.plot(tempo,np.exp(c_tau[1]*tempo+c_tau[0]))\n",
    "ax.plot(tempo,inf_gv[0:ate]/N,'.')\n",
    "\n",
    "\n",
    "ultimo = -c_tau[0]/c_tau[1] # até atingir valor 1, população inteiramente infectada, limite do último dia de infecção\n",
    "display(np.exp(c_tau))"
   ]
  },
  {
   "cell_type": "code",
   "execution_count": null,
   "metadata": {},
   "outputs": [],
   "source": [
    "np.exp(c_tau)"
   ]
  },
  {
   "cell_type": "code",
   "execution_count": 5,
   "metadata": {
    "id": "K5yJ4spn3qE2"
   },
   "outputs": [],
   "source": [
    "# entradas: c_tau e M, probabilidade de selecionar um não infectado = (1-exp(c_tau[1]*t+c_tau[0]))\n",
    "def distr(c_tau,M): \n",
    "  ultimo = -c_tau[0]/c_tau[1] # a cidade será infectada até esse dia\n",
    "  t = np.arange(0,ultimo) # memoria para dias\n",
    "  p_t = (1-np.exp(c_tau[1]*t+c_tau[0]))**M # probabilidade de selecionar M's não infectados\n",
    "  np.append(p_t,1)\n",
    "  p_dia = np.zeros(p_t.shape)\n",
    "  aux=1\n",
    "  for k in range(0,p_t.size):\n",
    "    p_dia[k]=aux*(1-p_t[k])\n",
    "    aux = aux*p_t[k]\n",
    "\n",
    "  return p_dia"
   ]
  },
  {
   "cell_type": "code",
   "execution_count": null,
   "metadata": {
    "id": "0elmbaTTzbtm"
   },
   "outputs": [],
   "source": [
    "c"
   ]
  },
  {
   "cell_type": "markdown",
   "metadata": {
    "id": "kZhpGtWQQc77"
   },
   "source": [
    "\n",
    "## Histograma de 10000 simulações para uma conexão de 1000 indivíduos em movimento pendular com a Grande Vitória para o caso da evolução da Covid-19.\n",
    "\n"
   ]
  },
  {
   "cell_type": "code",
   "execution_count": 10,
   "metadata": {
    "colab": {
     "base_uri": "https://localhost:8080/",
     "height": 296
    },
    "id": "gse57WDt8t0h",
    "outputId": "6826c50c-1ccd-4bfd-c5ce-a1d99a4ed864"
   },
   "outputs": [
    {
     "ename": "NameError",
     "evalue": "name 'inf_gv' is not defined",
     "output_type": "error",
     "traceback": [
      "\u001b[0;31m---------------------------------------------------------------------------\u001b[0m",
      "\u001b[0;31mNameError\u001b[0m                                 Traceback (most recent call last)",
      "Cell \u001b[0;32mIn[10], line 2\u001b[0m\n\u001b[1;32m      1\u001b[0m conex \u001b[38;5;241m=\u001b[39m \u001b[38;5;241m10\u001b[39m\n\u001b[0;32m----> 2\u001b[0m dias\u001b[38;5;241m=\u001b[39mdprog(conex,N,\u001b[43minf_gv\u001b[49m,\u001b[38;5;241m10000\u001b[39m) \u001b[38;5;66;03m# simulando 10 mil instâncias\u001b[39;00m\n\u001b[1;32m      3\u001b[0m p_dias \u001b[38;5;241m=\u001b[39m distr(c_tau,conex) \u001b[38;5;66;03m# distribuição 'real' com aproximação porca dos infectados \u001b[39;00m\n\u001b[1;32m      4\u001b[0m display(dias\u001b[38;5;241m.\u001b[39msize) \u001b[38;5;66;03m# verifica se todas foram simuladas com sucesso\u001b[39;00m\n",
      "\u001b[0;31mNameError\u001b[0m: name 'inf_gv' is not defined"
     ]
    }
   ],
   "source": [
    "conex = 10\n",
    "dias=dprog(conex,N,inf_gv,10000) # simulando 10 mil instâncias\n",
    "p_dias = distr(c_tau,conex) # distribuição 'real' com aproximação porca dos infectados \n",
    "display(dias.size) # verifica se todas foram simuladas com sucesso\n",
    "\n",
    "figh, axh = mp.subplots()\n",
    "axh.hist(dias,np.arange(0,260),density=True)\n",
    "axh.plot(p_dias)\n",
    "mp.show()"
   ]
  },
  {
   "cell_type": "code",
   "execution_count": 11,
   "metadata": {
    "id": "BOEx6CVVp1YL"
   },
   "outputs": [],
   "source": [
    "# entradas: c_tau e M, probabilidade de selecionar um não infectado = (1-exp(c_tau[1]*t+c_tau[0]))\n",
    "def distr0(R0,ga,N,M): \n",
    "    ultimo = np.log(N)/(ga*(R0-1)) # a cidade será infectada até esse dia\n",
    "    t = np.arange(1,ultimo) # memoria para dias\n",
    "    p_t = (1-np.exp(ga*(R0-1)*t)/N)**M # probabilidade de selecionar M's não infectados\n",
    "    np.append(p_t,1)\n",
    "    p_dia = np.zeros(p_t.shape)\n",
    "    aux=1\n",
    "    for k in range(0,p_t.size):\n",
    "        p_dia[k]=aux*(1-p_t[k])\n",
    "        aux = aux*p_t[k]\n",
    "    #display(p_dia.sum())\n",
    "    return p_dia"
   ]
  },
  {
   "cell_type": "code",
   "execution_count": 15,
   "metadata": {
    "colab": {
     "base_uri": "https://localhost:8080/",
     "height": 268
    },
    "id": "XEBNKx-kkrDr",
    "outputId": "1f61387f-2ea2-4a79-bc6f-3a5e44bbf94d"
   },
   "outputs": [
    {
     "data": {
      "text/plain": [
       "Text(0, 0.5, 'Probabilidade')"
      ]
     },
     "execution_count": 15,
     "metadata": {},
     "output_type": "execute_result"
    },
    {
     "data": {
      "image/png": "[encoded data removed]",
      "text/plain": [
       "<Figure size 640x480 with 1 Axes>"
      ]
     },
     "metadata": {},
     "output_type": "display_data"
    },
    {
     "data": {
      "image/png": "[encoded data removed]",
      "text/plain": [
       "<Figure size 640x480 with 1 Axes>"
      ]
     },
     "metadata": {},
     "output_type": "display_data"
    },
    {
     "data": {
      "image/png": "[encoded data removed]",
      "text/plain": [
       "<Figure size 640x480 with 1 Axes>"
      ]
     },
     "metadata": {},
     "output_type": "display_data"
    }
   ],
   "source": [
    "\n",
    "ate = 100\n",
    "R0=[1.9 , 2.5, 3.58]\n",
    "ga = 1/8\n",
    "Mc = [1,10, 100, 1000, 10000]\n",
    "mark = ['^','.','s','o','v'] \n",
    "Ni = 100000\n",
    "fig, ax1 = mp.subplots()\n",
    "\n",
    "for k in range(0,len(Mc)):\n",
    "    p_dias = distr0(R0[2],ga,Ni,Mc[k]) # distribuição 'real' com aproximação porca dos infectados \n",
    "    x = np.arange(1,p_dias.size+1)\n",
    "    ax1.plot(x, p_dias,mark[k], markersize=4,fillstyle='none')\n",
    "    aux= np.where(p_dias==p_dias.max())[0]+1\n",
    "    ax1.text(aux,p_dias.max(),'M = '+str(Mc[k]))\n",
    "    #ax1.set_xlabel('Days')\n",
    "    ax1.set_xlabel('Dias')\n",
    "    #ax1.set_ylabel('Probabili')\n",
    "    ax1.set_ylabel('Probabilidade')\n",
    "ultimo = np.log(Ni)/np.log(R0[0])\n",
    "t = np.arange(0,ultimo)\n",
    "ex = R0[0]**t/Ni\n",
    "\n",
    "fig2, ax2 = mp.subplots()\n",
    "for k in range(0,len(R0)):\n",
    "    p_dias = distr0(R0[k],ga,Ni,100) # distribuição 'real' com aproximação porca dos infectados \n",
    "    x = np.arange(1,p_dias.size+1)\n",
    "    ax2.plot(x,p_dias,'.', markersize=4,fillstyle='none')\n",
    "    aux= np.where(p_dias==p_dias.max())[0]+1\n",
    "    ax2.text(aux,p_dias.max(),'$R_0$ = '+str(R0[k]))\n",
    "    ax2.set_xlabel('Days')\n",
    "    ax2.set_ylabel('Probability')\n",
    "    #ax2.text(aux,p_dias.max(),'Número básico de reprodução = '+str(R0[k]))\n",
    "    #ax2.set_xlabel('Dias')\n",
    "    #ax2.set_ylabel('Probabilidade')\n",
    "\n",
    "fig3, ax3 = mp.subplots()\n",
    "\n",
    "p_dias = distr0(R0[-1],ga,Ni,Mc[-1])\n",
    "x = np.arange(1,p_dias.size+1)\n",
    "ax3.plot(x,p_dias,'.', markersize=2)\n",
    "aux= np.where(p_dias==p_dias.max())[0]+1\n",
    "ax3.text(aux,p_dias.max(),'Número Básico de Reprodução = '+str(R0[-1]) + '; '+ 'M = ' + str(Mc[-1]))\n",
    "ax3.set_xlabel('Dias')\n",
    "ax3.set_ylabel('Probabilidade')\n",
    "\n",
    "p_dias = distr0(R0[-1],ga,Ni,Mc[0])\n",
    "x = np.arange(1,p_dias.size+1)\n",
    "ax3.plot(x,p_dias,'.', markersize=4)\n",
    "aux= np.where(p_dias==p_dias.max())[0]+1\n",
    "ax3.text(aux,p_dias.max(),'Número Básico de Reprodução = '+str(R0[-1])+ '; ' + 'M = '+ str(Mc[0]))\n",
    "ax3.set_xlabel('Dias')\n",
    "ax3.set_ylabel('Probabilidade')\n",
    "\n",
    "p_dias = distr0(R0[0],ga,Ni,Mc[-1])\n",
    "x = np.arange(1,p_dias.size+1)\n",
    "ax3.plot(x,p_dias,'.', markersize=2)\n",
    "aux= np.where(p_dias==p_dias.max())[0]+1\n",
    "ax3.text(aux,p_dias.max(),'Número Básico de Reprodução = '+str(R0[0])+ '; '+'M = '+ str(Mc[-1]))\n",
    "ax3.set_xlabel('Dias')\n",
    "ax3.set_ylabel('Probabilidade')"
   ]
  },
  {
   "cell_type": "code",
   "execution_count": 16,
   "metadata": {
    "colab": {
     "base_uri": "https://localhost:8080/"
    },
    "id": "oZaoH7dPo0Zs",
    "outputId": "319095bb-9f16-471a-9961-4740b3b87cc8"
   },
   "outputs": [],
   "source": [
    "fig.savefig('figura1.eps',format='eps')\n",
    "fig2.savefig('figure2.eps')"
   ]
  },
  {
   "cell_type": "markdown",
   "metadata": {
    "id": "ZnRUInZaUI02"
   },
   "source": [
    "## Relação Conexão x Dias"
   ]
  },
  {
   "cell_type": "code",
   "execution_count": null,
   "metadata": {
    "id": "5WBhO22qozGc"
   },
   "outputs": [],
   "source": []
  },
  {
   "cell_type": "markdown",
   "metadata": {
    "id": "Hc8hOyrlAL_y"
   },
   "source": [
    " A conexão de uma pessoa somente não é confiável, \n",
    " não temos dados o suficiente de infectados para deixar livre os dias simulados.\n",
    " Vide o histograma no código anterior! \n",
    " De fato, o histograma começa a fazer sentido \n",
    " a partir de conexões acima de 5 indivíduos, nesses casos, os dias acima da série de infectados são raros."
   ]
  },
  {
   "cell_type": "code",
   "execution_count": null,
   "metadata": {
    "colab": {
     "base_uri": "https://localhost:8080/",
     "height": 284
    },
    "id": "hoaCqmIDRJg7",
    "outputId": "2534a0fb-0cfe-41f9-ee0a-de0bef35cc86"
   },
   "outputs": [],
   "source": [
    "\n",
    "figd, axd = mp.subplots()\n",
    "ate = 120\n",
    "Mc = np.zeros(ate)\n",
    "Mc[0:40] = np.arange(1,41) # escala linear\n",
    "Mc[40:] = (10**(np.arange(40,ate)/25)).round() # escala log\n",
    "dias = np.zeros(ate)\n",
    "err = np.zeros(ate)\n",
    "for k in range(0,ate):\n",
    "  aux = dprog(Mc[k],N,inf_gv,10000) # distribuição\n",
    "  dias[k]=aux.mean() # media \n",
    "  err[k] = aux.std() # desvio\n",
    "  \n",
    "axd.errorbar(Mc,dias,err)\n",
    "axd.set_xscale('log')\n",
    "axd.set_yscale('log')\n",
    "axd.set_xlabel('Conexão (nº pessoas)')\n",
    "axd.set_ylabel('Dias média e desvio')\n",
    "mp.show()\n",
    "\n",
    "\n"
   ]
  },
  {
   "cell_type": "markdown",
   "metadata": {
    "id": "zJX4oBqFUUY9"
   },
   "source": [
    "## Relacionando os dias simulados (considerando as conexões do ibge) para a conexão estrela grande vitória (GV) e cidades do ES com os dias reais da primeira infecção"
   ]
  },
  {
   "cell_type": "code",
   "execution_count": null,
   "metadata": {
    "colab": {
     "base_uri": "https://localhost:8080/",
     "height": 54
    },
    "id": "e79mfWapFbbx",
    "outputId": "ae57315e-4aaf-47e4-d634-1dac0e3f75b7"
   },
   "outputs": [],
   "source": [
    "dias = np.zeros(78)\n",
    "dias_reais = np.zeros(78)\n",
    "figc, axc = mp.subplots()\n",
    "for k in range(0,78):\n",
    "  dias[k]=dprog(M[k],N,inf_gv,10000).mean() # media de dias simulados\n",
    "  dias_reais[k] = np.where(casos.T[k]>1)[0][0] # dia do primeiro registro de infecção\n",
    "  if (k in gv):\n",
    "    axc.plot(dias_reais[k],dias[k],'.r') # destacar situação fictícia da cidade da GV conectada à GV\n",
    "  else:\n",
    "    axc.plot(dias_reais[k],dias[k],'.k') # cidades do ES conectadas a GV\n",
    "  axc.text(dias_reais[k],dias[k],nome_cidades[k]+' '+str(M[k]))\n",
    "axc.plot([0,100],[0,100],'k')\n",
    "axc.set_xlabel('Dias Reais')\n",
    "axc.set_xlabel('Dias Simulados')\n",
    "mp.show()\n",
    "# nota, tenho que descobrir como ampliar o gráfico por linha (colab não gera gráfico em janela separada)\n",
    "\n",
    "# as cidades Atílio Vivacqua e Dores do Rio Preto tem uma conexão de 0 pessoas segundo o IBGE\n",
    "# portanto, a simulação daria um histograma vazio, as bibs do python tratam o vazio como zero na plotagem, aparentemente"
   ]
  },
  {
   "cell_type": "markdown",
   "metadata": {
    "id": "UOxlh1ViVVT5"
   },
   "source": [
    "## Relacionando os dias simulados - média e desvio - (considerando as conexões do ibge) para a conexão estrela grande vitória (GV) e cidades do ES com os dias reais da primeira infecção"
   ]
  },
  {
   "cell_type": "code",
   "execution_count": null,
   "metadata": {
    "colab": {
     "base_uri": "https://localhost:8080/",
     "height": 279
    },
    "id": "aPvYwKkjGgzX",
    "outputId": "fd39841d-1adc-48fe-8387-f1c518bb43e4"
   },
   "outputs": [],
   "source": [
    "dias = np.zeros(78)\n",
    "err = np.zeros(78)\n",
    "dias_reais = np.zeros(78)\n",
    "figcc, axcc = mp.subplots()\n",
    "for k in range(0,78):\n",
    "    if M[k]!=0:\n",
    "        aux = dprog(M[k],N,inf_gv,10000) # distribuição\n",
    "        dias[k]=aux.mean() # média\n",
    "        err[k] = aux.std() # desvio\n",
    "        dias_reais[k] = np.where(casos.T[k]>0)[0][0]\n",
    "        #dias_reais[k] = dias_r[k]\n",
    "        if (k in gv):\n",
    "            axcc.plot(dias_reais[k],dias[k],'.r') # destacar situação fictícia da cidade da GV conectada à GV\n",
    "        else:\n",
    "            axcc.plot(dias_reais[k],dias[k],'.k') # cidades do ES conectadas a GV\n",
    "        #axcc.text(dias_reais[k],dias[k],str(M[k]))\n",
    "  #axcc.errorbar(dias_reais[k],dias[k],err[k])\n",
    "# plote e salvamento de arquivos\n",
    "\n",
    "axcc.plot([0,100],[0,100],'k')\n",
    "axcc.set_xlabel('Dias Reais')\n",
    "axcc.set_ylabel('Dias Simulados')\n",
    "mp.show()"
   ]
  },
  {
   "cell_type": "code",
   "execution_count": null,
   "metadata": {},
   "outputs": [],
   "source": [
    "tabela = pd.read_csv('primeiros casos.csv')"
   ]
  },
  {
   "cell_type": "code",
   "execution_count": null,
   "metadata": {},
   "outputs": [],
   "source": [
    "display(tabela)"
   ]
  },
  {
   "cell_type": "code",
   "execution_count": null,
   "metadata": {},
   "outputs": [],
   "source": [
    "aux = [datetime.strptime(k,'%Y-%m-%d') for k in tabela.DataColeta_RT_PCR]"
   ]
  },
  {
   "cell_type": "code",
   "execution_count": null,
   "metadata": {},
   "outputs": [],
   "source": [
    "dias_r = [(k-aux[76]).days for k in aux]"
   ]
  },
  {
   "cell_type": "code",
   "execution_count": null,
   "metadata": {},
   "outputs": [],
   "source": [
    "dias_r"
   ]
  },
  {
   "cell_type": "code",
   "execution_count": null,
   "metadata": {},
   "outputs": [],
   "source": [
    "def quant(vetor,p):\n",
    "    sv = np.zeros(vetor.size)\n",
    "    sv[0]=vetor[0]\n",
    "    for k in np.arange(1,vetor.size):\n",
    "        sv[k]=sv[k-1]+vetor[k]\n",
    "    aux = np.where(sv>p)\n",
    "    inf=aux[0][0]\n",
    "    aux = np.where(sv>1-p)\n",
    "    sup=aux[0][0]\n",
    "    return inf+1,sup+1"
   ]
  },
  {
   "cell_type": "code",
   "execution_count": null,
   "metadata": {},
   "outputs": [],
   "source": [
    "ate = 125\n",
    "Mc = np.zeros(ate)\n",
    "Mc[0:40] = np.arange(1,41) # escala linear\n",
    "Mc[40:] = (10**(np.arange(40,ate)/25)).round() # escala log\n",
    "dias = np.zeros(ate)\n",
    "dias = np.zeros(ate)\n",
    "inf = np.zeros(ate)\n",
    "sup = np.zeros(ate)\n",
    "dias_reais = np.zeros(78)\n",
    "ultimo = -c_tau[0]/c_tau[1] # a cidade será infectada até esse dia\n",
    "t = np.arange(1,ultimo+1) # memoria para dias\n",
    "figc, axc = mp.subplots()\n",
    "\n",
    "for k in range(0,ate):\n",
    "    pdias = distr(c_tau,Mc[k])\n",
    "    dias[k]=(t*pdias).sum() # media de dias simulados\n",
    "    inf[k],sup[k]=quant(pdias,0.1)\n",
    "for k in range(0,78):\n",
    "    dias_reais[k] = np.where(casos.T[k]>0)[0][0] # dia do primeiro registro de infecção\n",
    "\n",
    "axc.plot(Mc,dias,'b',linewidth=1.0)\n",
    "axc.fill_between(Mc,inf,sup, alpha=0.5,color='black')\n",
    "for k in range(0,77):\n",
    "    if k in gv:\n",
    "        #axc.plot(M[k],dias_reais[k],'.r')\n",
    "        k\n",
    "    else:\n",
    "        axc.plot(M[k],dias_reais[k],'.k')\n",
    "\n",
    "axc.set_xscale('log')\n",
    "axc.set_xlabel('Conexão (pessoas)')\n",
    "axc.set_ylabel('Dias até primeira infecção')\n",
    "mp.show()\n",
    "# nota, tenho que descobrir como ampliar o gráfico por linha (colab não gera gráfico em janela separada)\n",
    "\n",
    "# as cidades Atílio Vivacqua e Dores do Rio Preto tem uma conexão de 0 pessoas segundo o IBGE\n",
    "# portanto, a simulação daria um histograma vazio, as bibs do python tratam o vazio como zero na plotagem, aparentemente"
   ]
  },
  {
   "cell_type": "code",
   "execution_count": null,
   "metadata": {},
   "outputs": [],
   "source": [
    "dias_r"
   ]
  },
  {
   "cell_type": "code",
   "execution_count": null,
   "metadata": {},
   "outputs": [],
   "source": [
    "np.where(M==0)"
   ]
  },
  {
   "cell_type": "code",
   "execution_count": null,
   "metadata": {},
   "outputs": [],
   "source": [
    "nome_cidades[23]"
   ]
  },
  {
   "cell_type": "code",
   "execution_count": null,
   "metadata": {},
   "outputs": [],
   "source": []
  }
 ],
 "metadata": {
  "colab": {
   "collapsed_sections": [
    "kZhpGtWQQc77",
    "ZnRUInZaUI02",
    "zJX4oBqFUUY9",
    "UOxlh1ViVVT5"
   ],
   "name": "conexoes.ipynb",
   "provenance": []
  },
  "kernelspec": {
   "display_name": "Python 3 (ipykernel)",
   "language": "python",
   "name": "python3"
  },
  "language_info": {
   "codemirror_mode": {
    "name": "ipython",
    "version": 3
   },
   "file_extension": ".py",
   "mimetype": "text/x-python",
   "name": "python",
   "nbconvert_exporter": "python",
   "pygments_lexer": "ipython3",
   "version": "3.12.3"
  }
 },
 "nbformat": 4,
 "nbformat_minor": 4
}
